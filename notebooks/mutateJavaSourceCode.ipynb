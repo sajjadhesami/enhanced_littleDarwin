{
 "cells": [
  {
   "cell_type": "markdown",
   "metadata": {
    "collapsed": false,
    "pycharm": {
     "name": "#%% md\n"
    }
   },
   "source": [
    "## Mutating a Code Excerpt Using LittleDarwin \n",
    "\n",
    "Have you ever wondered what you need to mutate a Java code excerpt? All you need is the help of LittleDarwin!\n",
    "In this notebook, we are going to see how this can be done, and what you can do with the machinery LittleDarwin provides for you.\n",
    " \n",
    "Consider this very simple piece of code:\n",
    "\n",
    "    public class MyCode {\n",
    "\n",
    "        void bubbleSort(int array[]) {\n",
    "            int len = array.length;\n",
    "            for (int i = 0; i < len - 1; i++)\n",
    "                for (int j = 0; j < len - i - 1; j++)\n",
    "                    if (array[j] > array[j+1]) {\n",
    "                        int temp = array[j];\n",
    "                        array[j] = array[j+1];\n",
    "                        arr[j+1] = temp;\n",
    "                    }\n",
    "        }\n",
    "    }\n",
    "\n",
    "First, we need to write some Python code, because LittleDarwin is written in Python for some reason. \n",
    "\n",
    "\n",
    "We wrap the code in a string:"
   ]
  },
  {
   "cell_type": "code",
   "execution_count": 1,
   "metadata": {
    "collapsed": true,
    "pycharm": {
     "is_executing": false,
     "name": "#%% code\n"
    }
   },
   "outputs": [],
   "source": [
    "myJavaCode = \"\"\"\n",
    "\n",
    "public class MyCode {\n",
    "\n",
    "  void bubbleSort(int array[])\n",
    "    {\n",
    "        int len = array.length;\n",
    "        for (int i = 0; i < len - 1; i++)\n",
    "            for (int j = 0; j < len - i - 1; j++)\n",
    "                if (array[j] > array[j+1])\n",
    "                {\n",
    "                    int temp = array[j];\n",
    "                    array[j] = array[j+1];\n",
    "                    arr[j+1] = temp;\n",
    "                }\n",
    "    }\n",
    "}\n",
    "\n",
    "\n",
    "\"\"\""
   ]
  },
  {
   "cell_type": "markdown",
   "metadata": {
    "collapsed": false,
    "pycharm": {
     "name": "#%% md\n"
    }
   },
   "source": [
    "Now we need to summon the knights of LittleDarwin: JavaParse and JavaMutate:\n"
   ]
  },
  {
   "cell_type": "code",
   "execution_count": 2,
   "metadata": {
    "collapsed": false,
    "pycharm": {
     "is_executing": false,
     "name": "#%% code\n"
    }
   },
   "outputs": [],
   "source": [
    "from littledarwin import JavaParse, JavaMutate"
   ]
  },
  {
   "cell_type": "markdown",
   "metadata": {
    "collapsed": false,
    "pycharm": {
     "name": "#%% md\n"
    }
   },
   "source": [
    "Then, we initiate the parser, and retrieve the parse tree:"
   ]
  },
  {
   "cell_type": "code",
   "execution_count": 3,
   "metadata": {
    "collapsed": false,
    "pycharm": {
     "is_executing": false,
     "name": "#%% code\n"
    }
   },
   "outputs": [],
   "source": [
    "myParser = JavaParse.JavaParse()\n",
    "myParseTree = myParser.parse(myJavaCode)"
   ]
  },
  {
   "cell_type": "markdown",
   "metadata": {
    "collapsed": false,
    "pycharm": {
     "name": "#%% md\n"
    }
   },
   "source": [
    "Now we can initiate the mutator by giving it all it wants: the parse tree, source code, and the JavaParse instance.\n",
    "We can then execute *gatherMutants* method to retrieve all the mutants the knights of LittleDarwin could create. "
   ]
  },
  {
   "cell_type": "code",
   "execution_count": 4,
   "metadata": {
    "collapsed": false,
    "pycharm": {
     "is_executing": false,
     "name": "#%% code\n"
    }
   },
   "outputs": [],
   "source": [
    "myMutator = JavaMutate.JavaMutate(myParseTree, myJavaCode, myParser)\n",
    "mutants, mutantTypes = myMutator.gatherMutants(\"All\")"
   ]
  },
  {
   "cell_type": "markdown",
   "metadata": {
    "collapsed": false,
    "pycharm": {
     "name": "#%% md\n"
    }
   },
   "source": [
    "At this point, the job is done. You have two things back from this quest: a bunch of mutants in a list, and a dictionary that tells you how many of each mutant type there is.\n"
   ]
  },
  {
   "cell_type": "code",
   "execution_count": 5,
   "metadata": {
    "collapsed": false,
    "pycharm": {
     "is_executing": false,
     "name": "#%% code\n"
    }
   },
   "outputs": [
    {
     "name": "stdout",
     "output_type": "stream",
     "text": [
      "------------------------------------------------------------------\n",
      "\n",
      "/* LittleDarwin generated order-1 mutant\n",
      "mutant type: ArithmeticOperatorReplacementShortcut\n",
      "----> before:         for (int i = 0; i < len - 1; i++)\n",
      "----> after:         for (int i = 0; i < len - 1; i--)\n",
      "----> line number in original file: 8\n",
      "----> mutated node: 178\n",
      "\n",
      "*/\n",
      "\n",
      "\n",
      "\n",
      "public class MyCode {\n",
      "\n",
      "  void bubbleSort(int array[])\n",
      "    {\n",
      "        int len = array.length;\n",
      "        for (int i = 0; i < len - 1; i--)\n",
      "            for (int j = 0; j < len - i - 1; j++)\n",
      "                if (array[j] > array[j+1])\n",
      "                {\n",
      "                    int temp = array[j];\n",
      "                    array[j] = array[j+1];\n",
      "                    arr[j+1] = temp;\n",
      "                }\n",
      "    }\n",
      "}\n",
      "\n",
      "\n",
      "\n",
      "------------------------------------------------------------------\n",
      "\n",
      "------------------------------------------------------------------\n",
      "\n",
      "/* LittleDarwin generated order-1 mutant\n",
      "mutant type: ArithmeticOperatorReplacementShortcut\n",
      "----> before:             for (int j = 0; j < len - i - 1; j++)\n",
      "----> after:             for (int j = 0; j < len - i - 1; j--)\n",
      "----> line number in original file: 9\n",
      "----> mutated node: 131\n",
      "\n",
      "*/\n",
      "\n",
      "\n",
      "\n",
      "public class MyCode {\n",
      "\n",
      "  void bubbleSort(int array[])\n",
      "    {\n",
      "        int len = array.length;\n",
      "        for (int i = 0; i < len - 1; i++)\n",
      "            for (int j = 0; j < len - i - 1; j--)\n",
      "                if (array[j] > array[j+1])\n",
      "                {\n",
      "                    int temp = array[j];\n",
      "                    array[j] = array[j+1];\n",
      "                    arr[j+1] = temp;\n",
      "                }\n",
      "    }\n",
      "}\n",
      "\n",
      "\n",
      "\n",
      "------------------------------------------------------------------\n",
      "\n",
      "------------------------------------------------------------------\n",
      "\n",
      "/* LittleDarwin generated order-1 mutant\n",
      "mutant type: ArithmeticOperatorReplacementBinary\n",
      "----> before:         for (int i = 0; i < len - 1; i++)\n",
      "----> after:         for (int i = 0; i < len + 1; i++)\n",
      "----> line number in original file: 8\n",
      "----> mutated node: 185\n",
      "\n",
      "*/\n",
      "\n",
      "\n",
      "\n",
      "public class MyCode {\n",
      "\n",
      "  void bubbleSort(int array[])\n",
      "    {\n",
      "        int len = array.length;\n",
      "        for (int i = 0; i < len + 1; i++)\n",
      "            for (int j = 0; j < len - i - 1; j++)\n",
      "                if (array[j] > array[j+1])\n",
      "                {\n",
      "                    int temp = array[j];\n",
      "                    array[j] = array[j+1];\n",
      "                    arr[j+1] = temp;\n",
      "                }\n",
      "    }\n",
      "}\n",
      "\n",
      "\n",
      "\n",
      "------------------------------------------------------------------\n",
      "\n",
      "------------------------------------------------------------------\n",
      "\n",
      "/* LittleDarwin generated order-1 mutant\n",
      "mutant type: ArithmeticOperatorReplacementBinary\n",
      "----> before:             for (int j = 0; j < len - i - 1; j++)\n",
      "----> after:             for (int j = 0; j < len - i + 1; j++)\n",
      "----> line number in original file: 9\n",
      "----> mutated node: 138\n",
      "\n",
      "*/\n",
      "\n",
      "\n",
      "\n",
      "public class MyCode {\n",
      "\n",
      "  void bubbleSort(int array[])\n",
      "    {\n",
      "        int len = array.length;\n",
      "        for (int i = 0; i < len - 1; i++)\n",
      "            for (int j = 0; j < len - i + 1; j++)\n",
      "                if (array[j] > array[j+1])\n",
      "                {\n",
      "                    int temp = array[j];\n",
      "                    array[j] = array[j+1];\n",
      "                    arr[j+1] = temp;\n",
      "                }\n",
      "    }\n",
      "}\n",
      "\n",
      "\n",
      "\n",
      "------------------------------------------------------------------\n",
      "\n",
      "------------------------------------------------------------------\n",
      "\n",
      "/* LittleDarwin generated order-1 mutant\n",
      "mutant type: ArithmeticOperatorReplacementBinary\n",
      "----> before:             for (int j = 0; j < len - i - 1; j++)\n",
      "----> after:             for (int j = 0; j < len + i - 1; j++)\n",
      "----> line number in original file: 9\n",
      "----> mutated node: 144\n",
      "\n",
      "*/\n",
      "\n",
      "\n",
      "\n",
      "public class MyCode {\n",
      "\n",
      "  void bubbleSort(int array[])\n",
      "    {\n",
      "        int len = array.length;\n",
      "        for (int i = 0; i < len - 1; i++)\n",
      "            for (int j = 0; j < len + i - 1; j++)\n",
      "                if (array[j] > array[j+1])\n",
      "                {\n",
      "                    int temp = array[j];\n",
      "                    array[j] = array[j+1];\n",
      "                    arr[j+1] = temp;\n",
      "                }\n",
      "    }\n",
      "}\n",
      "\n",
      "\n",
      "\n",
      "------------------------------------------------------------------\n",
      "\n",
      "------------------------------------------------------------------\n",
      "\n",
      "/* LittleDarwin generated order-1 mutant\n",
      "mutant type: ArithmeticOperatorReplacementBinary\n",
      "----> before:                 if (array[j] > array[j+1])\n",
      "----> after:                 if (array[j] > array[j-1])\n",
      "----> line number in original file: 10\n",
      "----> mutated node: 102\n",
      "\n",
      "*/\n",
      "\n",
      "\n",
      "\n",
      "public class MyCode {\n",
      "\n",
      "  void bubbleSort(int array[])\n",
      "    {\n",
      "        int len = array.length;\n",
      "        for (int i = 0; i < len - 1; i++)\n",
      "            for (int j = 0; j < len - i - 1; j++)\n",
      "                if (array[j] > array[j-1])\n",
      "                {\n",
      "                    int temp = array[j];\n",
      "                    array[j] = array[j+1];\n",
      "                    arr[j+1] = temp;\n",
      "                }\n",
      "    }\n",
      "}\n",
      "\n",
      "\n",
      "\n",
      "------------------------------------------------------------------\n",
      "\n",
      "------------------------------------------------------------------\n",
      "\n",
      "/* LittleDarwin generated order-1 mutant\n",
      "mutant type: ArithmeticOperatorReplacementBinary\n",
      "----> before:                     array[j] = array[j+1];\n",
      "----> after:                     array[j] = array[j-1];\n",
      "----> line number in original file: 13\n",
      "----> mutated node: 51\n",
      "\n",
      "*/\n",
      "\n",
      "\n",
      "\n",
      "public class MyCode {\n",
      "\n",
      "  void bubbleSort(int array[])\n",
      "    {\n",
      "        int len = array.length;\n",
      "        for (int i = 0; i < len - 1; i++)\n",
      "            for (int j = 0; j < len - i - 1; j++)\n",
      "                if (array[j] > array[j+1])\n",
      "                {\n",
      "                    int temp = array[j];\n",
      "                    array[j] = array[j-1];\n",
      "                    arr[j+1] = temp;\n",
      "                }\n",
      "    }\n",
      "}\n",
      "\n",
      "\n",
      "\n",
      "------------------------------------------------------------------\n",
      "\n",
      "------------------------------------------------------------------\n",
      "\n",
      "/* LittleDarwin generated order-1 mutant\n",
      "mutant type: ArithmeticOperatorReplacementBinary\n",
      "----> before:                     arr[j+1] = temp;\n",
      "----> after:                     arr[j-1] = temp;\n",
      "----> line number in original file: 14\n",
      "----> mutated node: 31\n",
      "\n",
      "*/\n",
      "\n",
      "\n",
      "\n",
      "public class MyCode {\n",
      "\n",
      "  void bubbleSort(int array[])\n",
      "    {\n",
      "        int len = array.length;\n",
      "        for (int i = 0; i < len - 1; i++)\n",
      "            for (int j = 0; j < len - i - 1; j++)\n",
      "                if (array[j] > array[j+1])\n",
      "                {\n",
      "                    int temp = array[j];\n",
      "                    array[j] = array[j+1];\n",
      "                    arr[j-1] = temp;\n",
      "                }\n",
      "    }\n",
      "}\n",
      "\n",
      "\n",
      "\n",
      "------------------------------------------------------------------\n",
      "\n",
      "------------------------------------------------------------------\n",
      "\n",
      "/* LittleDarwin generated order-1 mutant\n",
      "mutant type: RelationalOperatorReplacement\n",
      "----> before:         for (int i = 0; i < len - 1; i++)\n",
      "----> after:         for (int i = 0; i >= len - 1; i++)\n",
      "----> line number in original file: 8\n",
      "----> mutated node: 184\n",
      "\n",
      "*/\n",
      "\n",
      "\n",
      "\n",
      "public class MyCode {\n",
      "\n",
      "  void bubbleSort(int array[])\n",
      "    {\n",
      "        int len = array.length;\n",
      "        for (int i = 0; i >= len - 1; i++)\n",
      "            for (int j = 0; j < len - i - 1; j++)\n",
      "                if (array[j] > array[j+1])\n",
      "                {\n",
      "                    int temp = array[j];\n",
      "                    array[j] = array[j+1];\n",
      "                    arr[j+1] = temp;\n",
      "                }\n",
      "    }\n",
      "}\n",
      "\n",
      "\n",
      "\n",
      "------------------------------------------------------------------\n",
      "\n",
      "------------------------------------------------------------------\n",
      "\n",
      "/* LittleDarwin generated order-1 mutant\n",
      "mutant type: RelationalOperatorReplacement\n",
      "----> before:             for (int j = 0; j < len - i - 1; j++)\n",
      "----> after:             for (int j = 0; j >= len - i - 1; j++)\n",
      "----> line number in original file: 9\n",
      "----> mutated node: 137\n",
      "\n",
      "*/\n",
      "\n",
      "\n",
      "\n",
      "public class MyCode {\n",
      "\n",
      "  void bubbleSort(int array[])\n",
      "    {\n",
      "        int len = array.length;\n",
      "        for (int i = 0; i < len - 1; i++)\n",
      "            for (int j = 0; j >= len - i - 1; j++)\n",
      "                if (array[j] > array[j+1])\n",
      "                {\n",
      "                    int temp = array[j];\n",
      "                    array[j] = array[j+1];\n",
      "                    arr[j+1] = temp;\n",
      "                }\n",
      "    }\n",
      "}\n",
      "\n",
      "\n",
      "\n",
      "------------------------------------------------------------------\n",
      "\n",
      "------------------------------------------------------------------\n",
      "\n",
      "/* LittleDarwin generated order-1 mutant\n",
      "mutant type: RelationalOperatorReplacement\n",
      "----> before:                 if (array[j] > array[j+1])\n",
      "----> after:                 if (array[j] <= array[j+1])\n",
      "----> line number in original file: 10\n",
      "----> mutated node: 99\n",
      "\n",
      "*/\n",
      "\n",
      "\n",
      "\n",
      "public class MyCode {\n",
      "\n",
      "  void bubbleSort(int array[])\n",
      "    {\n",
      "        int len = array.length;\n",
      "        for (int i = 0; i < len - 1; i++)\n",
      "            for (int j = 0; j < len - i - 1; j++)\n",
      "                if (array[j] <= array[j+1])\n",
      "                {\n",
      "                    int temp = array[j];\n",
      "                    array[j] = array[j+1];\n",
      "                    arr[j+1] = temp;\n",
      "                }\n",
      "    }\n",
      "}\n",
      "\n",
      "\n",
      "\n",
      "------------------------------------------------------------------\n",
      "\n"
     ]
    }
   ],
   "source": [
    "for mt in mutants:\n",
    "    print(\"------------------------------------------------------------------\\n\")\n",
    "    print(mt)\n",
    "    print(\"------------------------------------------------------------------\\n\")\n",
    "    "
   ]
  },
  {
   "cell_type": "code",
   "execution_count": 6,
   "metadata": {
    "collapsed": false,
    "pycharm": {
     "is_executing": false,
     "name": "#%% code\n"
    }
   },
   "outputs": [
    {
     "name": "stdout",
     "output_type": "stream",
     "text": [
      "ArithmeticOperatorReplacementBinary : 6\n",
      "RelationalOperatorReplacement : 3\n",
      "ArithmeticOperatorReplacementShortcut : 2\n"
     ]
    }
   ],
   "source": [
    "\n",
    "for mtType in mutantTypes.keys():\n",
    "    if mutantTypes[mtType] > 0:\n",
    "        print(mtType, \":\", mutantTypes[mtType])\n"
   ]
  },
  {
   "cell_type": "markdown",
   "metadata": {
    "collapsed": false,
    "pycharm": {
     "name": "#%% md\n"
    }
   },
   "source": [
    "\n",
    "That's all folks! More complicated stuff coming soon."
   ]
  }
 ],
 "metadata": {
  "kernelspec": {
   "display_name": "Python 3",
   "language": "python",
   "name": "python3"
  },
  "language_info": {
   "codemirror_mode": {
    "name": "ipython",
    "version": 3
   },
   "file_extension": ".py",
   "mimetype": "text/x-python",
   "name": "python",
   "nbconvert_exporter": "python",
   "pygments_lexer": "ipython3",
   "version": "3.12.10"
  },
  "pycharm": {
   "stem_cell": {
    "cell_type": "raw",
    "metadata": {
     "collapsed": false
    },
    "source": []
   }
  }
 },
 "nbformat": 4,
 "nbformat_minor": 0
}
